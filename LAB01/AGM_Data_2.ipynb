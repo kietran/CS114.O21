{
  "cells": [
    {
      "cell_type": "code",
      "execution_count": null,
      "id": "79290327-8734-4be7-9a2c-4ceb4ec6eaf6",
      "metadata": {
        "tags": [],
        "id": "79290327-8734-4be7-9a2c-4ceb4ec6eaf6"
      },
      "outputs": [],
      "source": [
        "import cv2\n",
        "import numpy as np\n",
        "import os\n",
        "import random\n",
        "import imgaug.augmenters as iaa"
      ]
    },
    {
      "cell_type": "code",
      "execution_count": null,
      "id": "52da0717-2c16-46e4-b735-6dac77e7d95c",
      "metadata": {
        "tags": [],
        "id": "52da0717-2c16-46e4-b735-6dac77e7d95c"
      },
      "outputs": [],
      "source": [
        "def add_grid_lines(image, num_lines=10, color=(128, 128, 128), line_thickness=3):\n",
        "    height, width = image.shape[:2]\n",
        "    line_image = image.copy()\n",
        "\n",
        "    step_y = height // num_lines\n",
        "    step_x = width // num_lines\n",
        "\n",
        "    for i in range(1, num_lines):\n",
        "        y = i * step_y\n",
        "        cv2.line(line_image, (0, y), (width, y), color, line_thickness)\n",
        "\n",
        "    for i in range(1, num_lines):\n",
        "        x = i * step_x\n",
        "        cv2.line(line_image, (x, 0), (x, height), color, line_thickness)\n",
        "\n",
        "    return line_image"
      ]
    },
    {
      "cell_type": "code",
      "execution_count": null,
      "id": "c8a120a0-17e3-4719-84b3-9be82b7387bd",
      "metadata": {
        "id": "c8a120a0-17e3-4719-84b3-9be82b7387bd"
      },
      "outputs": [],
      "source": [
        "def augment_and_save_images1(input_dir, output_dir):\n",
        "    if not os.path.exists(output_dir):\n",
        "        os.makedirs(output_dir)\n",
        "\n",
        "    for label in os.listdir(input_dir):\n",
        "        label_dir = os.path.join(input_dir, label)\n",
        "        output_label_dir = os.path.join(output_dir, label)\n",
        "\n",
        "        if not os.path.exists(output_label_dir):\n",
        "            os.makedirs(output_label_dir)\n",
        "\n",
        "        for filename in os.listdir(label_dir):\n",
        "            file_path = os.path.join(label_dir, filename)\n",
        "            image = cv2.imread(file_path)\n",
        "            if image is None:\n",
        "                continue\n",
        "            image = cv2.cvtColor(image, cv2.COLOR_BGR2RGB)\n",
        "\n",
        "            output_path = os.path.join(output_label_dir, f\"{filename.split('.')[0]}_original.jpg\")\n",
        "            cv2.imwrite(output_path, cv2.cvtColor(image, cv2.COLOR_RGB2BGR))\n",
        "\n",
        "            image_with_grid_lines = add_grid_lines(image, num_lines=10, line_thickness=1)\n",
        "            output_path = os.path.join(output_label_dir, f\"{filename.split('.')[0]}_lines1.jpg\")\n",
        "            cv2.imwrite(output_path, cv2.cvtColor(image_with_grid_lines, cv2.COLOR_RGB2BGR))\n",
        "\n",
        "input_directory = 'Data/dataset/train'\n",
        "output_directory = 'Data/temp_agm2/temp_agm_t'\n",
        "\n",
        "augment_and_save_images1(input_directory, output_directory)"
      ]
    },
    {
      "cell_type": "code",
      "execution_count": null,
      "id": "3d9f6320-55ea-4e95-b1af-83d1dfaaacd0",
      "metadata": {
        "tags": [],
        "id": "3d9f6320-55ea-4e95-b1af-83d1dfaaacd0"
      },
      "outputs": [],
      "source": [
        "def augment_and_save_images2(input_dir, output_dir):\n",
        "    if not os.path.exists(output_dir):\n",
        "        os.makedirs(output_dir)\n",
        "\n",
        "    augmenters = {\n",
        "        \"gray\": iaa.Grayscale(alpha=1.0),\n",
        "        \"blur\": iaa.GaussianBlur(sigma=(0.0, 3.0)),\n",
        "        \"invert\": iaa.Invert(1.0),\n",
        "        \"noise\": iaa.AdditiveGaussianNoise(scale=(0, 0.2*255)),\n",
        "        \"rotate\": iaa.Affine(rotate=(-15, 15)),\n",
        "        \"zoom_in\": iaa.Affine(scale=(1.1, 1.5)),\n",
        "        \"zoom_out\": iaa.Affine(scale=(0.7, 0.9))\n",
        "    }\n",
        "\n",
        "    for label in os.listdir(input_dir):\n",
        "        label_dir = os.path.join(input_dir, label)\n",
        "        output_label_dir = os.path.join(output_dir, label)\n",
        "\n",
        "        if not os.path.exists(output_label_dir):\n",
        "            os.makedirs(output_label_dir)\n",
        "\n",
        "        for filename in os.listdir(label_dir):\n",
        "            file_path = os.path.join(label_dir, filename)\n",
        "            image = cv2.imread(file_path)\n",
        "            if image is None:\n",
        "                continue\n",
        "            image = cv2.cvtColor(image, cv2.COLOR_BGR2RGB)\n",
        "\n",
        "            output_path = os.path.join(output_label_dir, f\"{filename.split('.')[0]}_original.jpg\")\n",
        "            cv2.imwrite(output_path, cv2.cvtColor(image, cv2.COLOR_RGB2BGR))\n",
        "\n",
        "            for aug_name, augmenter in augmenters.items():\n",
        "                augmented_image = augmenter(image=image)\n",
        "                output_path = os.path.join(output_label_dir, f\"{filename.split('.')[0]}_{aug_name}.jpg\")\n",
        "                cv2.imwrite(output_path, cv2.cvtColor(augmented_image, cv2.COLOR_RGB2BGR))\n",
        "\n",
        "input_directory = 'Data/temp_agm2/temp_agm_t'\n",
        "output_directory = 'Data/temp_agm2/train'\n",
        "\n",
        "augment_and_save_images2(input_directory, output_directory)"
      ]
    }
  ],
  "metadata": {
    "kernelspec": {
      "display_name": "Python 3 (ipykernel)",
      "language": "python",
      "name": "python3"
    },
    "language_info": {
      "codemirror_mode": {
        "name": "ipython",
        "version": 3
      },
      "file_extension": ".py",
      "mimetype": "text/x-python",
      "name": "python",
      "nbconvert_exporter": "python",
      "pygments_lexer": "ipython3",
      "version": "3.11.7"
    },
    "colab": {
      "provenance": []
    }
  },
  "nbformat": 4,
  "nbformat_minor": 5
}